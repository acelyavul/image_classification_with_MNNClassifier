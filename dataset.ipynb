{
 "cells": [
  {
   "cell_type": "code",
   "execution_count": 57,
   "id": "1ea58adc",
   "metadata": {},
   "outputs": [],
   "source": [
    "import os\n",
    "import numpy as np\n",
    "import cv2\n",
    "import h5py\n",
    "import math"
   ]
  },
  {
   "cell_type": "code",
   "execution_count": 58,
   "id": "fd69f0a3",
   "metadata": {},
   "outputs": [],
   "source": [
    "def crop_square(img, size, interpolation=cv2.INTER_AREA):\n",
    "    h, w = img.shape[:2]\n",
    "    min_size = np.amin([h,w])\n",
    "\n",
    "    # Centralize and crop\n",
    "    crop_img = img[int(h/2-min_size/2):int(h/2+min_size/2), int(w/2-min_size/2):int(w/2+min_size/2)]\n",
    "    resized = cv2.resize(crop_img, (size, size), interpolation=interpolation)\n",
    "\n",
    "    return resized"
   ]
  },
  {
   "cell_type": "code",
   "execution_count": 59,
   "id": "df645a53",
   "metadata": {},
   "outputs": [],
   "source": [
    "def process_images(img_num, image_path):\n",
    "    \n",
    "    img_arr=[]\n",
    "    \n",
    "    for i in range(img_num):\n",
    "        filename = f\"{i}.jpg\"\n",
    "        file_path= os.path.join(image_path, filename)\n",
    "        img=cv2.imread(file_path)\n",
    "        if img is None:\n",
    "            continue\n",
    "        else:\n",
    "            resized_img=crop_square(img, 64)\n",
    "            img_arr.append(resized_img)\n",
    "        \n",
    "    return img_arr"
   ]
  },
  {
   "cell_type": "code",
   "execution_count": 60,
   "id": "6ab4b6c8",
   "metadata": {},
   "outputs": [],
   "source": [
    "def create_labels(arr, label):\n",
    "    dataset=[]\n",
    "\n",
    "    for i in range(len(arr)):\n",
    "        image_dict={}\n",
    "        image_dict['x']= arr[i]\n",
    "        image_dict['y']= label\n",
    "        dataset.append(image_dict)\n",
    "        \n",
    "    return dataset    "
   ]
  },
  {
   "cell_type": "code",
   "execution_count": 61,
   "id": "2f6df917",
   "metadata": {},
   "outputs": [],
   "source": [
    "def split_shuffled_data(dataset):\n",
    "    shuffled_train_set_x=[]\n",
    "    shuffled_train_set_y=[]\n",
    "\n",
    "    for i in range(len(dataset)):\n",
    "        shuffled_train_set_x.append(dataset[i][\"x\"])\n",
    "        shuffled_train_set_y.append(dataset[i][\"y\"])\n",
    "    \n",
    "    return shuffled_train_set_x, shuffled_train_set_y"
   ]
  },
  {
   "cell_type": "code",
   "execution_count": 62,
   "id": "7a746079",
   "metadata": {},
   "outputs": [],
   "source": [
    "def create_h5file(x,y, df_type):\n",
    "    h5file = f'{df_type}_set.h5'\n",
    "\n",
    "    with h5py.File(h5file,'w') as h5f:\n",
    "        h5f[\"x\"]= x\n",
    "        h5f[\"y\"]= y\n",
    "        h5f.close()"
   ]
  },
  {
   "cell_type": "code",
   "execution_count": 63,
   "id": "2ff91cf6",
   "metadata": {},
   "outputs": [],
   "source": [
    "cat_files_path = os.path.abspath(\"PetImages/Cat\")\n",
    "dog_files_path = os.path.abspath(\"PetImages/Dog\")"
   ]
  },
  {
   "cell_type": "code",
   "execution_count": 64,
   "id": "20ca6ca1",
   "metadata": {},
   "outputs": [],
   "source": [
    "cat_img_nums= len(os.listdir(cat_files_path))\n",
    "dog_img_nums= len(os.listdir(dog_files_path))"
   ]
  },
  {
   "cell_type": "code",
   "execution_count": 65,
   "id": "13259d6b",
   "metadata": {},
   "outputs": [
    {
     "name": "stdout",
     "output_type": "stream",
     "text": [
      "Cats:  12500\n",
      "Dogs:  12501\n"
     ]
    }
   ],
   "source": [
    "print(\"Cats: \", cat_img_nums)\n",
    "print(\"Dogs: \", dog_img_nums)"
   ]
  },
  {
   "cell_type": "code",
   "execution_count": 66,
   "id": "4bbce151",
   "metadata": {},
   "outputs": [
    {
     "data": {
      "text/plain": [
       "(12476, 64, 64, 3)"
      ]
     },
     "execution_count": 66,
     "metadata": {},
     "output_type": "execute_result"
    }
   ],
   "source": [
    "cats_arr=process_images(cat_img_nums, cat_files_path)\n",
    "cat_images = np.array(cats_arr)\n",
    "cat_images.shape"
   ]
  },
  {
   "cell_type": "code",
   "execution_count": 67,
   "id": "eb30ba02",
   "metadata": {},
   "outputs": [
    {
     "data": {
      "text/plain": [
       "(12470, 64, 64, 3)"
      ]
     },
     "execution_count": 67,
     "metadata": {},
     "output_type": "execute_result"
    }
   ],
   "source": [
    "dogs_arr=process_images(dog_img_nums, dog_files_path)\n",
    "dog_images = np.array(dogs_arr)\n",
    "dog_images.shape"
   ]
  },
  {
   "cell_type": "code",
   "execution_count": 68,
   "id": "97193835",
   "metadata": {},
   "outputs": [
    {
     "name": "stdout",
     "output_type": "stream",
     "text": [
      "Cat Examples:  12476\n",
      "Dog Examples:  12470\n"
     ]
    }
   ],
   "source": [
    "print(\"Cat Examples: \", cat_images.shape[0])\n",
    "print(\"Dog Examples: \", dog_images.shape[0])"
   ]
  },
  {
   "cell_type": "code",
   "execution_count": 92,
   "id": "f41f1a9b",
   "metadata": {},
   "outputs": [],
   "source": [
    "def create_dateset(cat_images, dog_images, train_size=80):\n",
    "    m1=math.floor(cat_images.shape[0]*(train_size/100))\n",
    "    m2=math.floor(dog_images.shape[0]*(train_size/100))\n",
    "\n",
    "    train_cat_images=cat_images[:m1]\n",
    "    train_dog_images=dog_images[:m2]\n",
    "\n",
    "    test_cat_images=cat_images[m1:]\n",
    "    test_dog_images=dog_images[m2:]\n",
    "\n",
    "    train_cat_dataset=create_labels(train_cat_images,1)\n",
    "    train_dog_dataset=create_labels(train_dog_images,0)\n",
    "\n",
    "    test_cat_dataset=create_labels(test_cat_images,1)\n",
    "    test_dog_dataset=create_labels(test_dog_images,0)\n",
    "\n",
    "    train_dataset=train_cat_dataset+train_dog_dataset\n",
    "    test_dataset=test_cat_dataset+test_dog_dataset\n",
    "\n",
    "    np.random.shuffle(train_dataset)\n",
    "    np.random.shuffle(test_dataset)\n",
    "\n",
    "    train_x, train_y = split_shuffled_data(train_dataset)\n",
    "    test_x, test_y = split_shuffled_data(test_dataset)\n",
    "    \n",
    "    train_y=np.array(train_y)\n",
    "    test_y=np.array(test_y)\n",
    "    \n",
    "    train_y = np.reshape(train_y, (train_y.shape[0], 1)).T\n",
    "    test_y = np.reshape(test_y, (test_y.shape[0], 1)).T\n",
    "\n",
    "    create_h5file(train_x, train_y, \"train\")\n",
    "    create_h5file(test_x, test_y, \"test\")"
   ]
  },
  {
   "cell_type": "code",
   "execution_count": 93,
   "id": "2594e800",
   "metadata": {},
   "outputs": [],
   "source": [
    "def load_dataset():\n",
    "    df = h5py.File('train_set.h5', \"r\")\n",
    "    X_train = np.array(df[\"x\"])\n",
    "    y_train = np.array(df[\"y\"])\n",
    "    \n",
    "    \n",
    "    df = h5py.File('test_set.h5', \"r\")\n",
    "    X_test = np.array(df[\"x\"])\n",
    "    y_test = np.array(df[\"y\"])\n",
    "    \n",
    "    \n",
    "    return X_train, y_train, X_test, y_test"
   ]
  },
  {
   "cell_type": "code",
   "execution_count": 94,
   "id": "e5d3a0d9",
   "metadata": {},
   "outputs": [],
   "source": [
    "create_dateset(cat_images,dog_images)"
   ]
  },
  {
   "cell_type": "code",
   "execution_count": 95,
   "id": "9be46dc8",
   "metadata": {},
   "outputs": [],
   "source": [
    "X_train, y_train, X_test, y_test = load_dataset()"
   ]
  },
  {
   "cell_type": "code",
   "execution_count": 96,
   "id": "f07afe1f",
   "metadata": {},
   "outputs": [
    {
     "name": "stdout",
     "output_type": "stream",
     "text": [
      "X_train:  (19956, 64, 64, 3)\n",
      "y_train:  (1, 19956)\n",
      "X_test:  (4990, 64, 64, 3)\n",
      "y_test:  (1, 4990)\n"
     ]
    }
   ],
   "source": [
    "print(\"X_train: \", X_train.shape)\n",
    "print(\"y_train: \", y_train.shape)\n",
    "print(\"X_test: \", X_test.shape)\n",
    "print(\"y_test: \", y_test.shape)"
   ]
  },
  {
   "cell_type": "code",
   "execution_count": null,
   "id": "210fba22",
   "metadata": {},
   "outputs": [],
   "source": []
  }
 ],
 "metadata": {
  "kernelspec": {
   "display_name": "Python 3 (ipykernel)",
   "language": "python",
   "name": "python3"
  },
  "language_info": {
   "codemirror_mode": {
    "name": "ipython",
    "version": 3
   },
   "file_extension": ".py",
   "mimetype": "text/x-python",
   "name": "python",
   "nbconvert_exporter": "python",
   "pygments_lexer": "ipython3",
   "version": "3.11.3"
  }
 },
 "nbformat": 4,
 "nbformat_minor": 5
}
